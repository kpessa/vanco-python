{
 "cells": [
  {
   "cell_type": "markdown",
   "metadata": {},
   "source": [
    "## Calculating and visualizing vancomycin concentrations\n",
    "- in Python using a jupyter notebook and matplotlib"
   ]
  },
  {
   "cell_type": "markdown",
   "metadata": {},
   "source": [
    "#### Dependencies"
   ]
  },
  {
   "cell_type": "code",
   "execution_count": 1,
   "metadata": {},
   "outputs": [],
   "source": [
    "import math\n",
    "import numpy as np\n",
    "import matplotlib.pyplot as plt"
   ]
  },
  {
   "cell_type": "markdown",
   "metadata": {},
   "source": [
    "#### Random PK Variables"
   ]
  },
  {
   "cell_type": "code",
   "execution_count": 2,
   "metadata": {},
   "outputs": [],
   "source": [
    "Dose = 1000 # mgs\n",
    "t_inf = 1 # hrs\n",
    "K_e = 0.100 \n",
    "V_d = 50 # L"
   ]
  },
  {
   "cell_type": "markdown",
   "metadata": {},
   "source": [
    "## First, the equation for concentration while infusing\n",
    "\n",
    "1. The `c_inf(t)` ***(concentration while infusing at time t)*** is: \n",
    "\\\\[c_{inf}(t) = \\frac{R_0}{CL_{vanco}}(1 - e^{-K_e * t}) \\\\]"
   ]
  },
  {
   "cell_type": "code",
   "execution_count": 3,
   "metadata": {},
   "outputs": [],
   "source": [
    "def c_inf(t):\n",
    "    return R_0 / CL_vanco * (1 - math.exp(-K_e * t))"
   ]
  },
  {
   "cell_type": "markdown",
   "metadata": {},
   "source": [
    "<blockquote>\n",
    "- where <code>R_0</code> <em><strong>(Rate)</strong></em> is: \n",
    " \\\\[R_0 = \\frac{Dose}{T_{inf}} \\\\]\n",
    "- and <code>CL_vanco</code> <em><strong>(Vancomycin Clearance)</strong></em> is: \\\\[CL_{vanco} = K_e \\times V_d\\\\]\n",
    "</blockquote>"
   ]
  },
  {
   "cell_type": "code",
   "execution_count": 4,
   "metadata": {},
   "outputs": [],
   "source": [
    "R_0 = Dose / t_inf\n",
    "CL_vanco = K_e * V_d"
   ]
  },
  {
   "cell_type": "code",
   "execution_count": 5,
   "metadata": {},
   "outputs": [],
   "source": [
    "cmax = R_0 / CL_vanco * (1 - math.exp(-K_e * t_inf))"
   ]
  },
  {
   "cell_type": "markdown",
   "metadata": {},
   "source": [
    "<blockquote>\n",
    "* where <code>c_max</code> is the <strong><em>concentration at the end of infusion</strong></em> <code>Tinf = t</code>\n",
    "\\\\[c_{max}(t=Tinf) = \\frac{R_0}{CL_{vanco}}(1 - e^{-K_e * Tinf}) \\\\]\n",
    "</blockquote>"
   ]
  },
  {
   "cell_type": "markdown",
   "metadata": {},
   "source": [
    "### Second, the equation for concentration after infusion\n",
    "\n",
    "2. The `c_post(t)` ***(concentration after infusion at time t)*** is: \n",
    "\\\\[c_{post}(t) = c_{max} \\times e^{-K_e \\times t} \\\\]"
   ]
  },
  {
   "cell_type": "code",
   "execution_count": 6,
   "metadata": {},
   "outputs": [],
   "source": [
    "def c_post(t):\n",
    "    return cmax * math.exp(-K_e * (t - t_inf))"
   ]
  },
  {
   "cell_type": "markdown",
   "metadata": {},
   "source": [
    "### And finally, determine when we should use either equation  "
   ]
  },
  {
   "cell_type": "markdown",
   "metadata": {},
   "source": [
    "3. For one dose, if time `t` is less than `Tinf`, we use the infusion equation, if time `t` is greater than `Tinf`, post-infusion equation\n",
    "    if \\\\[ t <= t_{inf} \\rightarrow c_{inf}(t) \\\\]\n",
    "    if \\\\[ t > t_{inf} \\rightarrow c_{post}(t) \\\\]"
   ]
  },
  {
   "cell_type": "code",
   "execution_count": 11,
   "metadata": {},
   "outputs": [],
   "source": [
    "def concentration(t):\n",
    "    if t <= t_inf:\n",
    "        return c_inf(t)\n",
    "    else:\n",
    "        return c_post(t)"
   ]
  },
  {
   "cell_type": "code",
   "execution_count": 12,
   "metadata": {},
   "outputs": [],
   "source": [
    "def labelPlot():\n",
    "    plt.xlabel('hrs')\n",
    "    plt.ylabel('concentration')\n",
    "    plt.ylim(0,25)\n",
    "    plt.xlim(0-0.5,tau+0.5)\n",
    "    plt.title('First-order Concentration Plot')\n",
    "    \n",
    "def annotateInterestingPoints():\n",
    "    plt.annotate(f\"Cmax: {cmax:.1f}\",xy = (1,cmax),xytext = (0,10),textcoords ='offset points')\n",
    "    plt.annotate(f\"Cpeak: {cpeak:.1f}\",(1+1,cpeak),xytext = (5,5),textcoords ='offset points')\n",
    "    plt.annotate(f\"Ctrough: {ctrough:.1f}\",(tau-0.5,ctrough),xytext = (-70,-15),textcoords ='offset points')\n",
    "    plt.annotate(f\"Cmin: {cmin:.1f}\",(tau,cmin),xytext = (-50,-30),textcoords ='offset points')"
   ]
  },
  {
   "cell_type": "markdown",
   "metadata": {},
   "source": [
    "## Now, all we gotta to is plot!"
   ]
  },
  {
   "cell_type": "markdown",
   "metadata": {},
   "source": [
    "Since plot does not take function,\n",
    "- sample 250 points along `concentration(t)` function over 24 hrs"
   ]
  },
  {
   "cell_type": "code",
   "execution_count": 14,
   "metadata": {},
   "outputs": [],
   "source": [
    "X = np.linspace(0,12,100) \n",
    "Y = [concentration(t) for t in X]"
   ]
  },
  {
   "cell_type": "code",
   "execution_count": 13,
   "metadata": {},
   "outputs": [
    {
     "data": {
      "image/png": "[encoded data removed]",
      "text/plain": [
       "<Figure size 720x432 with 1 Axes>"
      ]
     },
     "metadata": {
      "needs_background": "light"
     },
     "output_type": "display_data"
    }
   ],
   "source": [
    "plt.figure(figsize = (10,6))\n",
    "\n",
    "plt.plot(X,Y)\n",
    "\n",
    "#interesting points\n",
    "tau = 12\n",
    "cmax = concentration(1)\n",
    "cpeak = concentration(1+1) # <~ wait 1? hr after infusion\n",
    "ctrough = concentration(tau-0.5) # <~ 30 min before next dose\n",
    "cmin = concentration(tau)\n",
    "plt.scatter(x=[1,1+1,tau-0.5,tau],y=[cmax,cpeak,ctrough,cmin])\n",
    "annotateInterestingPoints()\n",
    "labelPlot()"
   ]
  },
  {
   "cell_type": "code",
   "execution_count": null,
   "metadata": {},
   "outputs": [],
   "source": []
  }
 ],
 "metadata": {
  "kernelspec": {
   "display_name": "Python 3.6.10 64-bit ('PythonData': conda)",
   "language": "python",
   "name": "python361064bitpythondataconda13c33e7d00474160b8916212f83fb86d"
  },
  "language_info": {
   "codemirror_mode": {
    "name": "ipython",
    "version": 3
   },
   "file_extension": ".py",
   "mimetype": "text/x-python",
   "name": "python",
   "nbconvert_exporter": "python",
   "pygments_lexer": "ipython3",
   "version": "3.6.10"
  }
 },
 "nbformat": 4,
 "nbformat_minor": 4
}
